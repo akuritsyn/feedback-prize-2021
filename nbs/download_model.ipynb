{
 "cells": [
  {
   "cell_type": "code",
   "execution_count": null,
   "id": "ef65d191",
   "metadata": {},
   "outputs": [],
   "source": [
    "from transformers import *"
   ]
  },
  {
   "cell_type": "code",
   "execution_count": null,
   "id": "0845ea26",
   "metadata": {},
   "outputs": [],
   "source": [
    "MODEL_NAME = 'microsoft/deberta-large'\n",
    "DOWNLOADED_MODEL_PATH = '../model/microsoft/deberta-large'\n",
    "\n",
    "# Need to install a different tokenizer using https://www.kaggle.com/nbroad/deberta-v2-3-fast-tokenizer\n",
    "# MODEL_NAME = 'microsoft/deberta-v3-large'\n",
    "# DOWNLOADED_MODEL_PATH = '../model/microsoft/deberta-v3-large'"
   ]
  },
  {
   "cell_type": "code",
   "execution_count": null,
   "id": "cc066858",
   "metadata": {},
   "outputs": [],
   "source": [
    "tokenizer = AutoTokenizer.from_pretrained(MODEL_NAME, add_prefix_space=True)\n",
    "# from transformers.models.deberta_v2.tokenization_deberta_v2_fast import DebertaV2TokenizerFast\n",
    "# tokenizer = DebertaV2TokenizerFast.from_pretrained(MODEL_NAME, add_prefix_space=True)"
   ]
  },
  {
   "cell_type": "code",
   "execution_count": null,
   "id": "44a9db31",
   "metadata": {},
   "outputs": [],
   "source": [
    "tokenizer.save_pretrained(DOWNLOADED_MODEL_PATH)"
   ]
  },
  {
   "cell_type": "code",
   "execution_count": null,
   "id": "b49c219d",
   "metadata": {},
   "outputs": [],
   "source": [
    "config_model = AutoConfig.from_pretrained(MODEL_NAME) \n",
    "config_model.save_pretrained(DOWNLOADED_MODEL_PATH)"
   ]
  },
  {
   "cell_type": "code",
   "execution_count": null,
   "id": "9dee1e05",
   "metadata": {},
   "outputs": [],
   "source": [
    "backbone = AutoModel.from_pretrained(MODEL_NAME, config=config_model)\n",
    "backbone.save_pretrained(DOWNLOADED_MODEL_PATH)"
   ]
  },
  {
   "cell_type": "markdown",
   "id": "1ddc2343",
   "metadata": {},
   "source": [
    "### The following is necessary if you want to use the fast tokenizer for deberta v2 or v3"
   ]
  },
  {
   "cell_type": "code",
   "execution_count": null,
   "id": "d59d4825",
   "metadata": {},
   "outputs": [],
   "source": [
    "# See https://www.kaggle.com/nbroad/deberta-v2-3-fast-tokenizer for more details\n",
    "import shutil\n",
    "from pathlib import Path\n",
    "\n",
    "#transformers_path = Path(\"/opt/conda/lib/python3.7/site-packages/transformers\")\n",
    "# input_dir = Path(\"../input/deberta-v2-3-fast-tokenizer\")\n",
    "transformers_path = Path(\"/home/akuritsyn/anaconda3/envs/py39_torch/lib/python3.9/site-packages/transformers\")\n",
    "input_dir = Path(\"/home/akuritsyn/projects/feedback_prize_2021/microsoft/deberta-v2-3-fast-tokenizer\")\n",
    "\n",
    "convert_file = input_dir / \"convert_slow_tokenizer.py\"\n",
    "conversion_path = transformers_path/convert_file.name\n",
    "\n",
    "if conversion_path.exists():\n",
    "    conversion_path.unlink()\n",
    "\n",
    "shutil.copy(convert_file, transformers_path)\n",
    "deberta_v2_path = transformers_path / \"models\" / \"deberta_v2\"\n",
    "\n",
    "for filename in ['tokenization_deberta_v2.py', 'tokenization_deberta_v2_fast.py', \"deberta__init__.py\"]:\n",
    "    if str(filename).startswith(\"deberta\"):\n",
    "        filepath = deberta_v2_path/str(filename).replace(\"deberta\", \"\")\n",
    "    else:\n",
    "        filepath = deberta_v2_path/filename\n",
    "    if filepath.exists():\n",
    "        filepath.unlink()\n",
    "\n",
    "    shutil.copy(input_dir/filename, filepath)"
   ]
  }
 ],
 "metadata": {
  "kernelspec": {
   "display_name": "Python 3",
   "language": "python",
   "name": "python3"
  },
  "language_info": {
   "codemirror_mode": {
    "name": "ipython",
    "version": 3
   },
   "file_extension": ".py",
   "mimetype": "text/x-python",
   "name": "python",
   "nbconvert_exporter": "python",
   "pygments_lexer": "ipython3",
   "version": "3.9.7"
  }
 },
 "nbformat": 4,
 "nbformat_minor": 5
}
